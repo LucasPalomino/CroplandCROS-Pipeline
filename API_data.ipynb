{
 "cells": [
  {
   "cell_type": "code",
   "execution_count": 1,
   "id": "5b509fe1-fa81-47a1-8d2c-fdfeac27bec3",
   "metadata": {},
   "outputs": [],
   "source": [
    "import json\n",
    "import os\n",
    "import requests\n",
    "from osgeo import gdal, ogr, osr\n",
    "from datetime import datetime\n",
    "osr.UseExceptions()  # Explicitly enable exceptions for GDAL methods (used to suppress warning)"
   ]
  },
  {
   "cell_type": "code",
   "execution_count": 2,
   "id": "ffb77b19-78c2-434b-858b-5d51b1fbbabc",
   "metadata": {},
   "outputs": [],
   "source": [
    "# Create working directories\n",
    "raster_folder = \"./raster_files\"\n",
    "vector_folder = \"./vector_files\"\n",
    "os.makedirs(raster_folder, exist_ok=True)\n",
    "os.makedirs(vector_folder, exist_ok=True)"
   ]
  },
  {
   "cell_type": "code",
   "execution_count": 3,
   "id": "64a0dd50-4212-4639-b42b-49559810af54",
   "metadata": {
    "scrolled": true
   },
   "outputs": [
    {
     "name": "stdin",
     "output_type": "stream",
     "text": [
      "Enter a State: Wisconsin\n",
      "Enter a County (or leave blank): \n",
      "Choose a base year (2008-2022): 2022\n",
      "Enter a map projection (EPSG number): 3857\n"
     ]
    }
   ],
   "source": [
    "# Request user input\n",
    "state = input(\"Enter a State:\")\n",
    "county = input(\"Enter a County (or leave blank):\")\n",
    "base_year = input(\"Choose a base year (2008-2022):\")\n",
    "spatial_reference = input(\"Enter a map projection (EPSG number):\")\n",
    "base_year = int(base_year)"
   ]
  },
  {
   "cell_type": "code",
   "execution_count": 4,
   "id": "fbbf88f8-eadd-424a-995e-8e9ddeed05df",
   "metadata": {},
   "outputs": [],
   "source": [
    "def get_state_extent():\n",
    "    \n",
    "    state_API_endpoint=\"https://pdi.scinet.usda.gov/hosting/rest/services/Hosted/CONUS_States_Albers/FeatureServer/0/query?\"\n",
    "    parameters = f\"where=STATE_NAME=%27{state}%27\" \\\n",
    "                 f\"&outSR={spatial_reference}\" \\\n",
    "                  \"&returnExtentOnly=true\" \\\n",
    "                  \"&f=geojson\"\n",
    "    \n",
    "    request_URI = state_API_endpoint + parameters\n",
    "    \n",
    "    return(request_URI)"
   ]
  },
  {
   "cell_type": "code",
   "execution_count": 5,
   "id": "caba2a6b-167a-4a94-95e4-87c540230469",
   "metadata": {},
   "outputs": [],
   "source": [
    "def get_county_extent():\n",
    "    \n",
    "    county_API_endpoint = \"https://pdi.scinet.usda.gov/hosting/rest/services/Hosted/CONUS_Counties_Albers/FeatureServer/0/query?\"\n",
    "    parameters = f\"where=NAME=%27{county}%27\" \\\n",
    "                 f\"%20AND%20STATE_NAME=%27{state}%27\" \\\n",
    "                 f\"&outSR={spatial_reference}\" \\\n",
    "                  \"&returnExtentOnly=true\" \\\n",
    "                  \"&f=geojson\"\n",
    "    \n",
    "    request_URI = county_API_endpoint + parameters\n",
    "    \n",
    "    return(request_URI)"
   ]
  },
  {
   "cell_type": "code",
   "execution_count": 10,
   "id": "15376500-f80b-4a98-a2ef-a249e50e79d0",
   "metadata": {},
   "outputs": [],
   "source": [
    "def get_state_boundary():\n",
    "    \n",
    "    state_API_endpoint=\"https://pdi.scinet.usda.gov/hosting/rest/services/Hosted/CONUS_States_Albers/FeatureServer/0/query?\"\n",
    "    parameters = f\"where=STATE_NAME=%27{state}%27\" \\\n",
    "                 f\"&outSR={spatial_reference}\" \\\n",
    "                  \"&f=geojson\"\n",
    "    \n",
    "    request_URI = state_API_endpoint + parameters\n",
    "\n",
    "    return(request_URI)"
   ]
  },
  {
   "cell_type": "code",
   "execution_count": 11,
   "id": "fce5d6f6-2755-4ef3-ad12-e1e8d5c22e65",
   "metadata": {},
   "outputs": [],
   "source": [
    "def get_county_boundary():\n",
    "\n",
    "    county_API_endpoint = \"https://pdi.scinet.usda.gov/hosting/rest/services/Hosted/CONUS_Counties_Albers/FeatureServer/0/query?\"\n",
    "    parameters = f\"where=NAME=%27{county}%27\" \\\n",
    "                     f\"%20AND%20STATE_NAME=%27{state}%27\" \\\n",
    "                     f\"&outSR={spatial_reference}\" \\\n",
    "                      \"&f=geojson\"\n",
    "    \n",
    "    request_URI = county_API_endpoint + parameters\n",
    "\n",
    "    return(request_URI)"
   ]
  },
  {
   "cell_type": "code",
   "execution_count": 8,
   "id": "4b87586a-7b25-4d20-9605-1791cfcda347",
   "metadata": {},
   "outputs": [],
   "source": [
    "# Converts year to epoch time on January 1, 20xx\n",
    "def year_to_epoch(year):\n",
    "    \n",
    "    datetime_str = f\"{year}-1-1 00:00:00.000\"\n",
    "    dt = datetime.strptime(datetime_str, \"%Y-%m-%d %H:%M:%S.%f\")\n",
    "    epoch_time = int(dt.timestamp()*1000)\n",
    "    \n",
    "    return(epoch_time)"
   ]
  },
  {
   "cell_type": "code",
   "execution_count": 30,
   "id": "072db676-2d6e-47bc-aa5a-23ca6f195257",
   "metadata": {},
   "outputs": [
    {
     "name": "stdout",
     "output_type": "stream",
     "text": [
      "-10340404.378432821,5234949.209224634,-9658537.320832817,5955285.108306542\n"
     ]
    }
   ],
   "source": [
    "# Check if extent to be calculated is state-wide or county-wide\n",
    "if not county:\n",
    "    extent_URI = get_state_extent()\n",
    "    boundary_URI = get_state_boundary()\n",
    "    filename = f\"{state}\"\n",
    "else:\n",
    "    extent_URI = get_county_extent()\n",
    "    boundary_URI = get_county_boundary()\n",
    "    filename = f\"{state}_{county}\"\n",
    "\n",
    "extent_response = requests.get(extent_URI)\n",
    "boundary_response = requests.get(boundary_URI)\n",
    "\n",
    "if extent_response.status_code == 200:\n",
    "    URI_result = extent_response.json()\n",
    "    extent = URI_result['extent']\n",
    "    bounding_box = f\"{extent['xmin']},{extent['ymin']},{extent['xmax']},{extent['ymax']}\"\n",
    "else:\n",
    "    print(f\"Unable to get data. Error code: {extent_response.status_code}\")\n",
    "\n",
    "if boundary_response.status_code == 200:\n",
    "    geojson_data = json.loads(boundary_response.text)\n",
    "else:\n",
    "    print(f\"Unable to get data. Error code: {boundary_response.status_code}\")"
   ]
  },
  {
   "cell_type": "code",
   "execution_count": 26,
   "id": "01dc00f1-2fe0-499e-8d29-58a38935ebad",
   "metadata": {},
   "outputs": [],
   "source": [
    "# Get raster files\n",
    "def get_raster_file(year):\n",
    "\n",
    "    epoch_time = year_to_epoch(year)\n",
    "\n",
    "    raster_API_endpoint = \"https://pdi.scinet.usda.gov/image/rest/services/CDL_WM/ImageServer/exportImage?\"\n",
    "    parameters = f\"bbox={bounding_box}\" \\\n",
    "                 f\"&bboxSR={spatial_reference}\" \\\n",
    "                  \"&size=4097,4097\" \\\n",
    "                 f\"&imageSR={spatial_reference}\" \\\n",
    "                 f\"&time={epoch_time}\" \\\n",
    "                  \"&format=tiff\" \\\n",
    "                  \"&f=image\"\n",
    "    \n",
    "    URI = raster_API_endpoint + parameters\n",
    "    response = requests.get(URI)\n",
    "    \n",
    "    if response.status_code == 200:\n",
    "        raster_name = f\"{filename}_{year}_EPSG{spatial_reference}.tiff\"\n",
    "        raster_path = f\"{raster_folder}/{raster_name}\"\n",
    "        with open(raster_path, 'wb') as file:\n",
    "            file.write(response.content)\n",
    "    else:\n",
    "        print(f\"Unable to download the file. Error code: {response.status_code}\")\n",
    "\n",
    "    return(raster_path)"
   ]
  },
  {
   "cell_type": "code",
   "execution_count": 23,
   "id": "582360fd-2829-490b-bbc2-30b308f65c2a",
   "metadata": {},
   "outputs": [],
   "source": [
    "# Create outpput file\n",
    "driver = ogr.GetDriverByName('ESRI Shapefile')\n",
    "\n",
    "layer_name = f\"{filename}_boundary\"\n",
    "vector_name = f\"{filename}_boundary.shp\"\n",
    "vector_path = f\"{vector_folder}/{vector_name}\"\n",
    "output_file = os.path.join(vector_folder, vector_name)\n",
    "\n",
    "if (os.path.exists(output_file)):\n",
    "    driver.DeleteDataSource(output_file)\n",
    "\n",
    "# Create the data source\n",
    "data_source = driver.CreateDataSource(output_file)\n",
    "\n",
    "# Define spatial reference\n",
    "spatial_ref = osr.SpatialReference()\n",
    "spatial_ref.ImportFromEPSG(int(spatial_reference))\n",
    "\n",
    "# Create the layer\n",
    "layer = data_source.CreateLayer(layer_name, spatial_ref, ogr.wkbPolygon)\n",
    "\n",
    "# Define a feature (with no attributes in this case)\n",
    "feature_defn = layer.GetLayerDefn()\n",
    "\n",
    "# Loop through geojson features\n",
    "for feature in geojson_data['features']:\n",
    "    # Get coordinates from the feature (this could be multipolygon)\n",
    "    coordinates = feature[\"geometry\"][\"coordinates\"]\n",
    "\n",
    "    # Check if it is a multipolygon instance (a list)\n",
    "    if (feature['geometry']['type'] == 'MultiPolygon'):\n",
    "        # Handle multipolygon (coordinates is a list of polygons)\n",
    "        for polygon_coords in coordinates:\n",
    "            # Create LinearRing for each polygon\n",
    "            ring = ogr.Geometry(ogr.wkbLinearRing)\n",
    "            for coord in polygon_coords[0]:  # Assuming the coordinates are in [x, y] format\n",
    "                ring.AddPoint(coord[0], coord[1])\n",
    "\n",
    "            # Create Polygon geometry and add the ring\n",
    "            polygon = ogr.Geometry(ogr.wkbPolygon)\n",
    "            polygon.AddGeometry(ring)\n",
    "\n",
    "            # Create a new feature for each polygon and set its geometry\n",
    "            out_feature = ogr.Feature(feature_defn)\n",
    "            out_feature.SetGeometry(polygon)\n",
    "\n",
    "            # Add the feature to the layer\n",
    "            layer.CreateFeature(out_feature)\n",
    "\n",
    "            # Clear memory for the feature\n",
    "            out_feature = None\n",
    "    else:\n",
    "        # Handle single polygon (coordinates is a single polygon)\n",
    "        ring = ogr.Geometry(ogr.wkbLinearRing)\n",
    "        for coord in coordinates[0]:\n",
    "            ring.AddPoint(coord[0], coord[1])\n",
    "\n",
    "        # Create Polygon geometry and add the ring\n",
    "        polygon = ogr.Geometry(ogr.wkbPolygon)\n",
    "        polygon.AddGeometry(ring)\n",
    "\n",
    "        # Create a new feature for the polygon and set its geometry\n",
    "        out_feature = ogr.Feature(feature_defn)\n",
    "        out_feature.SetGeometry(polygon)\n",
    "\n",
    "        # Add the feature to the layer\n",
    "        layer.CreateFeature(out_feature)\n",
    "\n",
    "        # Clear memory for the feature\n",
    "        out_feature = None\n",
    "\n",
    "# Clear memory for the data source after processing all features\n",
    "data_source = None"
   ]
  },
  {
   "cell_type": "code",
   "execution_count": 29,
   "id": "74f8f12f-8031-4eb6-9176-b05b77960d6e",
   "metadata": {},
   "outputs": [
    {
     "name": "stdout",
     "output_type": "stream",
     "text": [
      "https://pdi.scinet.usda.gov/image/rest/services/CDL_WM/ImageServer/exportImage?bbox=-10340404.378432821,5234949.209224634,-9658537.320832817,5955285.108306542&bboxSR=3857&size=4097,4097&imageSR=3857&time=1641016800000&format=tiff&f=image\n",
      "https://pdi.scinet.usda.gov/image/rest/services/CDL_WM/ImageServer/exportImage?bbox=-10340404.378432821,5234949.209224634,-9658537.320832817,5955285.108306542&bboxSR=3857&size=4097,4097&imageSR=3857&time=1672552800000&format=tiff&f=image\n"
     ]
    }
   ],
   "source": [
    "# Download two file years to compare (base_year, base_year + 1)\n",
    "base_raster = get_raster_file(base_year)\n",
    "change_raster = get_raster_file(base_year+1)"
   ]
  },
  {
   "cell_type": "code",
   "execution_count": null,
   "id": "50f3ab74-d77e-4639-a540-143b3a28a7c6",
   "metadata": {},
   "outputs": [],
   "source": []
  }
 ],
 "metadata": {
  "kernelspec": {
   "display_name": "Python 3 (ipykernel)",
   "language": "python",
   "name": "python3"
  },
  "language_info": {
   "codemirror_mode": {
    "name": "ipython",
    "version": 3
   },
   "file_extension": ".py",
   "mimetype": "text/x-python",
   "name": "python",
   "nbconvert_exporter": "python",
   "pygments_lexer": "ipython3",
   "version": "3.12.7"
  }
 },
 "nbformat": 4,
 "nbformat_minor": 5
}
